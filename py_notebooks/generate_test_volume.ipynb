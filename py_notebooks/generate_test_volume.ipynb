{
 "cells": [
  {
   "cell_type": "code",
   "execution_count": 2,
   "metadata": {},
   "outputs": [],
   "source": [
    "import numpy as np\n",
    "from matplotlib import pyplot as plt"
   ]
  },
  {
   "cell_type": "code",
   "execution_count": 4,
   "metadata": {},
   "outputs": [],
   "source": [
    "size = 128\n",
    "V = np.zeros((size, size, size), dtype=np.uint8)\n",
    "X, Y, Z = np.meshgrid(np.linspace(-1, 1, size), np.linspace(-1, 1, size),  np.linspace(-1, 1, size))\n",
    "\n",
    "V[X**2 + Y**2 + Z**2 < 0.5**2] += 155 # add a circle\n",
    "V[np.maximum(np.abs(X), np.maximum(np.abs(Y), np.abs(Z))) < 0.8] += 100 # add a square\n",
    "# plt.imshow(V[128,:,:], cmap='gray', vmin=0, vmax=255)"
   ]
  },
  {
   "cell_type": "code",
   "execution_count": 5,
   "metadata": {},
   "outputs": [],
   "source": [
    "V.tofile(f'../data/sphere_in_cube_{size}.raw')"
   ]
  }
 ],
 "metadata": {
  "kernelspec": {
   "display_name": "Python 3",
   "language": "python",
   "name": "python3"
  },
  "language_info": {
   "codemirror_mode": {
    "name": "ipython",
    "version": 3
   },
   "file_extension": ".py",
   "mimetype": "text/x-python",
   "name": "python",
   "nbconvert_exporter": "python",
   "pygments_lexer": "ipython3",
   "version": "3.11.4"
  }
 },
 "nbformat": 4,
 "nbformat_minor": 2
}
